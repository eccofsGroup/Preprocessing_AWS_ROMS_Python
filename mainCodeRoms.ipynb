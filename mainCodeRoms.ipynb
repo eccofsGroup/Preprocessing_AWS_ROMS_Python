{
 "cells": [
  {
   "cell_type": "markdown",
   "id": "f8b766be",
   "metadata": {},
   "source": [
    "**Loading libraries**"
   ]
  },
  {
   "cell_type": "code",
   "execution_count": null,
   "id": "6617a829",
   "metadata": {},
   "outputs": [],
   "source": [
    "import sys\n",
    "import glob\n",
    "import os\n",
    "import boto3\n",
    "sys.path.append(os.path.split(os.getcwd())[0])\n",
    "import functionsROMSv3 as clf\n",
    "from datetime import datetime, timedelta\n",
    "import netCDF4 as nc\n",
    "import xarray as xr\n",
    "import logging\n",
    "import re\n",
    "import numpy as np\n",
    "from tqdm import tqdm\n",
    "import importlib\n",
    "from joblib import Parallel, delayed\n"
   ]
  },
  {
   "cell_type": "markdown",
   "id": "9c75d3fa",
   "metadata": {},
   "source": [
    "**Specify your AWS credentials and region and replace these values with your own credentials.**"
   ]
  },
  {
   "cell_type": "code",
   "execution_count": null,
   "id": "5b0753df",
   "metadata": {},
   "outputs": [],
   "source": [
    "AWS_ACCESS_KEY_ID = 'Your access key ID'\n",
    "AWS_SECRET_ACCESS_KEY = 'Your secret access key'\n",
    "AWS_REGION = 'us-east-1'"
   ]
  },
  {
   "cell_type": "markdown",
   "id": "6e84df31",
   "metadata": {},
   "source": [
    "**Define your bucket and file information**"
   ]
  },
  {
   "cell_type": "code",
   "execution_count": null,
   "id": "c818b5c5",
   "metadata": {},
   "outputs": [],
   "source": [
    "BUCKET_NAME = 'romstest'\n",
    "out_dir = f'{os.getcwd()}/'"
   ]
  },
  {
   "cell_type": "markdown",
   "id": "e8ec8dba",
   "metadata": {},
   "source": [
    "**Setting up download region**"
   ]
  },
  {
   "cell_type": "code",
   "execution_count": 7,
   "id": "7277dbd9",
   "metadata": {},
   "outputs": [],
   "source": [
    "lon1 = (-116., -24.)\n",
    "lat1 = (-6, 55)\n",
    "depth = (0., 6000.)\n",
    "serviceID = \"GLOBAL_ANALYSISFORECAST_PHY_001_024\"\n",
    "outname = 'copernicus'\n",
    "\n",
    "#-- Boundary dates\n",
    "start_date1 = datetime(2020, 11, 30, 12)\n",
    "end_date1 = datetime(2020, 12, 1, 12)"
   ]
  },
  {
   "cell_type": "markdown",
   "id": "38257953",
   "metadata": {},
   "source": [
    "**Set up names and other things**"
   ]
  },
  {
   "cell_type": "code",
   "execution_count": 8,
   "id": "a4440285",
   "metadata": {},
   "outputs": [],
   "source": [
    "#-- Time units\n",
    "time_units = 'days since 2011-01-01 00:00:00'\n",
    "\n",
    "#-- netcdf with variables needed \n",
    "icName = 'doppio_ini_7km.nc'\n",
    "gridName = 'grid_doppio_7km.nc'\n",
    "\n",
    "#-- Names to save your files\n",
    "climName1='climatology_eccofs'\n",
    "bcName1 = 'bc_eccofs'\n",
    "\n",
    "#-- Extrapolation and Interpolation options\n",
    "extrapModel='gridfill' # gridfill, poisson, griddata\n",
    "interpModel='basemap' # basemap, bilinear, None. The None option only works when extrapModel='griddata'\n",
    "\n",
    "#-- Figures names\n",
    "clmFig = 'surfaceInterpolation' # this is to plot surface.\n",
    "bcFig = 'boundaries' # it gives the boundaries in a plot."
   ]
  },
  {
   "cell_type": "markdown",
   "id": "7dfdc6eb",
   "metadata": {},
   "source": [
    "**Define if you want BC out of the clim file, what boundaries to extract from.**"
   ]
  },
  {
   "cell_type": "code",
   "execution_count": 9,
   "id": "20e382b7",
   "metadata": {},
   "outputs": [],
   "source": [
    "createBC1='yes'\n",
    "bcFlags = ['n','s','e','w']"
   ]
  },
  {
   "cell_type": "markdown",
   "id": "c426cf1e",
   "metadata": {},
   "source": [
    "**Define if you want storage information.**"
   ]
  },
  {
   "cell_type": "code",
   "execution_count": 10,
   "id": "2442b1a5",
   "metadata": {},
   "outputs": [],
   "source": [
    "showStorage='yes'"
   ]
  },
  {
   "cell_type": "markdown",
   "id": "734344d7",
   "metadata": {},
   "source": [
    "**Email settings**"
   ]
  },
  {
   "cell_type": "code",
   "execution_count": 11,
   "id": "23fcc717",
   "metadata": {},
   "outputs": [],
   "source": [
    "sender_email = \"email\"\n",
    "receiver_email = \"email\" \n",
    "password = \"mwiwtsjkyeyelcxd\""
   ]
  },
  {
   "cell_type": "markdown",
   "id": "606ad949",
   "metadata": {},
   "source": [
    "# ----------------------      No changes needed  ----------------------"
   ]
  },
  {
   "cell_type": "markdown",
   "id": "cce106d7",
   "metadata": {},
   "source": [
    "### _Sending email at the beginning to let user know preprocessing has started._"
   ]
  },
  {
   "cell_type": "code",
   "execution_count": null,
   "id": "41ee3352",
   "metadata": {},
   "outputs": [],
   "source": [
    "subject = \"This is an email from AWS to me\"\n",
    "body = \"Hi there, this is an email to let you know that your code has just started.\\\n",
    "        This email was sent at \"+datetime.now().strftime('%Y-%m-%d %H:%M:%S %p')+\".\"\n",
    "\n",
    "\n",
    "clf.emailProcess(sender_email,receiver_email,subject,body,password)"
   ]
  },
  {
   "cell_type": "markdown",
   "id": "5c28fccf",
   "metadata": {},
   "source": [
    "### _Trying to access bucket on AWS, if it does not work, sends an email to the user._\n"
   ]
  },
  {
   "cell_type": "code",
   "execution_count": null,
   "id": "78a77890",
   "metadata": {},
   "outputs": [],
   "source": [
    "try:\n",
    "    s3_client = boto3.client(\n",
    "        's3',\n",
    "        aws_access_key_id=AWS_ACCESS_KEY_ID,\n",
    "        aws_secret_access_key=AWS_SECRET_ACCESS_KEY,\n",
    "        region_name=AWS_REGION\n",
    "    )\n",
    "except Exception as e:\n",
    "    body = str(e)+'. It will not be able to upload files to s3 bucket.\\\n",
    "           This error happened at '+datetime.now().strftime('%Y-%m-%d %H:%M:%S %p')+\".\"\n",
    "    subject=\"boto3 error message\"\n",
    "    clf.emailProcess(sender_email,receiver_email,subject,body,password)  "
   ]
  },
  {
   "cell_type": "markdown",
   "id": "53b48fac",
   "metadata": {},
   "source": [
    "### _Downloading Mercator files based on the settings above_"
   ]
  },
  {
   "cell_type": "code",
   "execution_count": null,
   "id": "b9bdd042",
   "metadata": {},
   "outputs": [],
   "source": [
    "clf.downloadingMercatorV4(outname,out_dir,serviceID, lon=lon1, lat=lat1,\\\n",
    "                     start_date=start_date1, end_date= end_date1,\\\n",
    "                    varName=['temp','salt','vel','ssh'],deltat=1,sendEmail='yes',\\\n",
    "                     sender_email=sender_email,receiver_email=receiver_email,\\\n",
    "                     password=password)"
   ]
  },
  {
   "cell_type": "markdown",
   "id": "af9f98dd",
   "metadata": {},
   "source": [
    "### _Creating a soft link with the Mercator files downloaded._"
   ]
  },
  {
   "cell_type": "code",
   "execution_count": null,
   "id": "fd2e0d53",
   "metadata": {},
   "outputs": [],
   "source": [
    "listFiles = glob.glob('all_copernicus_yr*.nc')\n",
    "listFiles.sort()"
   ]
  },
  {
   "cell_type": "markdown",
   "id": "a7d5bfe8",
   "metadata": {},
   "source": [
    "### _Getting time from the netcdf files._"
   ]
  },
  {
   "cell_type": "code",
   "execution_count": null,
   "id": "142c53c5",
   "metadata": {},
   "outputs": [],
   "source": [
    "time = []\n",
    "idx = []\n",
    "for i in listFiles:\n",
    "    print(i)\n",
    "    file = nc.Dataset(i)\n",
    "    a = re.split('[_, .]',i)\n",
    "    idx.append(a[1]+'_'+a[2]+'_'+a[3]+'_'+a[4])\n",
    "    time.append(nc.date2num(nc.num2date(file.variables['time'][:].data[0],\\\n",
    "               units=file.variables['time'].units,calendar=file.variables['time'].calendar),\\\n",
    "               units=time_units,calendar='gregorian'))\n",
    "            \n",
    "time=np.array(time)"
   ]
  },
  {
   "cell_type": "markdown",
   "id": "3c0c4658",
   "metadata": {},
   "source": [
    "### _Creating climatology files._"
   ]
  },
  {
   "cell_type": "code",
   "execution_count": null,
   "id": "7fa35f56",
   "metadata": {},
   "outputs": [],
   "source": [
    "clf.saveClimatology(timeInput=time,gridFile=icName,climName=climName1,\\\n",
    "                   units=time_units,createBC=createBC1,bcName=bcName1,bc=bcFlags)\n",
    "\n",
    "gridd=clf.loadInfoToRead(icName,bcFlags,listFiles, bcName1=bcName1)\n",
    "\n",
    "\n",
    "Parallel(n_jobs=1)(delayed(clf.process_file_v2)(t, file, gridd, \n",
    "          climName=climName1,extrapModel=extrapModel,\\\n",
    "          interpModel=interpModel) for t, file in enumerate(listFiles)) \n",
    "\n",
    "mercNClist=glob.glob('all*.nc')"
   ]
  },
  {
   "cell_type": "markdown",
   "id": "036769c5",
   "metadata": {},
   "source": [
    "### _Plot and save figures._"
   ]
  },
  {
   "cell_type": "code",
   "execution_count": null,
   "id": "65fdc06b",
   "metadata": {},
   "outputs": [],
   "source": [
    "clf.plotandSave(icName,climName1,bcName1,mercNClist,clmFig=clmFig,\\\n",
    "          bcFig=bcFig)"
   ]
  },
  {
   "cell_type": "markdown",
   "id": "23e11339",
   "metadata": {},
   "source": [
    "### _Submit netcdf files to bucket on AWS._"
   ]
  },
  {
   "cell_type": "code",
   "execution_count": null,
   "id": "3f554419",
   "metadata": {},
   "outputs": [],
   "source": [
    "OBJECT_NAME = [climName1+'.nc', bcName1+'.nc']\n",
    "\n",
    "urlfiles = clf.urlFiletoUpload(OBJECT_NAME,BUCKET_NAME)"
   ]
  },
  {
   "cell_type": "markdown",
   "id": "fac5da5a",
   "metadata": {},
   "source": [
    "### _Creating text file._"
   ]
  },
  {
   "cell_type": "code",
   "execution_count": null,
   "id": "e7e893e1",
   "metadata": {},
   "outputs": [],
   "source": [
    "textfile=clf.fileName(urlfiles,fileTextName='urlDownloads.txt')"
   ]
  },
  {
   "cell_type": "markdown",
   "id": "47a52a2a",
   "metadata": {},
   "source": [
    "### _Sending email at the end to let user know preprocessing has finished._"
   ]
  },
  {
   "cell_type": "code",
   "execution_count": null,
   "id": "0de70969",
   "metadata": {},
   "outputs": [],
   "source": [
    "subject = \"This is an email from AWS to me\"\n",
    "body = \"Hi there, the files were downloaded successfully and the url is attached along with\\\n",
    "      the interpolation result. This email was sent at \"+datetime.now().strftime('%Y-%m-%d %H:%M:%S %p')+\".\"\n",
    "\n",
    "#--- email\n",
    "clf.emailProcess(sender_email, receiver_email, subject, body, password,\\\n",
    "         image=[clmFig+\".png\",bcFig+\".png\"], textFile=textfile)"
   ]
  }
 ],
 "metadata": {
  "kernelspec": {
   "display_name": "Python 3 (ipykernel)",
   "language": "python",
   "name": "python3"
  },
  "language_info": {
   "codemirror_mode": {
    "name": "ipython",
    "version": 3
   },
   "file_extension": ".py",
   "mimetype": "text/x-python",
   "name": "python",
   "nbconvert_exporter": "python",
   "pygments_lexer": "ipython3",
   "version": "3.11.3"
  }
 },
 "nbformat": 4,
 "nbformat_minor": 5
}
